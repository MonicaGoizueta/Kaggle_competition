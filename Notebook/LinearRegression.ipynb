{
 "cells": [
  {
   "cell_type": "code",
   "execution_count": 1,
   "id": "3b8e187b",
   "metadata": {},
   "outputs": [],
   "source": [
    "import numpy as np\n",
    "import pandas as pd\n",
    "import matplotlib.pyplot as plt\n",
    "import statsmodels.formula.api as smf\n",
    "import seaborn as sns\n",
    "import pickle\n",
    "\n",
    "# para calcular las métricas\n",
    "\n",
    "from sklearn.model_selection import cross_validate\n",
    "from sklearn.pipeline import Pipeline\n",
    "from sklearn.neighbors import KNeighborsRegressor\n",
    "from sklearn.model_selection import GridSearchCV\n",
    "\n",
    "from sklearn.ensemble import RandomForestRegressor\n",
    "from sklearn.tree import DecisionTreeRegressor \n",
    "from sklearn import tree\n",
    "\n",
    "from sklearn.linear_model import LinearRegression\n",
    "from sklearn.metrics import make_scorer\n",
    "from sklearn import metrics\n",
    "from sklearn.preprocessing import LabelEncoder  \n",
    "from sklearn.preprocessing import StandardScaler\n",
    "from sklearn.model_selection import train_test_split\n",
    "from sklearn.preprocessing import OrdinalEncoder\n",
    "plt.rcParams[\"figure.figsize\"] = (10,8)"
   ]
  },
  {
   "cell_type": "code",
   "execution_count": 2,
   "id": "1d070de3",
   "metadata": {},
   "outputs": [
    {
     "data": {
      "text/html": [
       "<div>\n",
       "<style scoped>\n",
       "    .dataframe tbody tr th:only-of-type {\n",
       "        vertical-align: middle;\n",
       "    }\n",
       "\n",
       "    .dataframe tbody tr th {\n",
       "        vertical-align: top;\n",
       "    }\n",
       "\n",
       "    .dataframe thead th {\n",
       "        text-align: right;\n",
       "    }\n",
       "</style>\n",
       "<table border=\"1\" class=\"dataframe\">\n",
       "  <thead>\n",
       "    <tr style=\"text-align: right;\">\n",
       "      <th></th>\n",
       "      <th>carat</th>\n",
       "      <th>cut</th>\n",
       "      <th>color</th>\n",
       "      <th>clarity</th>\n",
       "      <th>price</th>\n",
       "    </tr>\n",
       "    <tr>\n",
       "      <th>id</th>\n",
       "      <th></th>\n",
       "      <th></th>\n",
       "      <th></th>\n",
       "      <th></th>\n",
       "      <th></th>\n",
       "    </tr>\n",
       "  </thead>\n",
       "  <tbody>\n",
       "    <tr>\n",
       "      <th>0</th>\n",
       "      <td>-1.128026</td>\n",
       "      <td>1</td>\n",
       "      <td>0</td>\n",
       "      <td>6</td>\n",
       "      <td>6.353</td>\n",
       "    </tr>\n",
       "    <tr>\n",
       "      <th>1</th>\n",
       "      <td>0.669489</td>\n",
       "      <td>0</td>\n",
       "      <td>1</td>\n",
       "      <td>2</td>\n",
       "      <td>9.183</td>\n",
       "    </tr>\n",
       "  </tbody>\n",
       "</table>\n",
       "</div>"
      ],
      "text/plain": [
       "       carat  cut  color  clarity  price\n",
       "id                                      \n",
       "0  -1.128026    1      0        6  6.353\n",
       "1   0.669489    0      1        2  9.183"
      ]
     },
     "execution_count": 2,
     "metadata": {},
     "output_type": "execute_result"
    }
   ],
   "source": [
    "df_tt = pd.read_csv(\"../data/preproc.csv\", index_col = 0)\n",
    "df_tt.head(2)"
   ]
  },
  {
   "cell_type": "markdown",
   "id": "4d4c466e",
   "metadata": {},
   "source": [
    "Separación CSV de train en X y y"
   ]
  },
  {
   "cell_type": "code",
   "execution_count": 3,
   "id": "d77f700f",
   "metadata": {},
   "outputs": [],
   "source": [
    "X = df_tt.drop('price', axis =1)\n",
    "y = df_tt['price']"
   ]
  },
  {
   "cell_type": "markdown",
   "id": "dc0e4487",
   "metadata": {},
   "source": [
    "Usando la librería stats"
   ]
  },
  {
   "cell_type": "code",
   "execution_count": 4,
   "id": "37bb5543",
   "metadata": {},
   "outputs": [
    {
     "data": {
      "text/html": [
       "<table class=\"simpletable\">\n",
       "<caption>OLS Regression Results</caption>\n",
       "<tr>\n",
       "  <th>Dep. Variable:</th>          <td>price</td>      <th>  R-squared:         </th> <td>   0.770</td> \n",
       "</tr>\n",
       "<tr>\n",
       "  <th>Model:</th>                   <td>OLS</td>       <th>  Adj. R-squared:    </th> <td>   0.770</td> \n",
       "</tr>\n",
       "<tr>\n",
       "  <th>Method:</th>             <td>Least Squares</td>  <th>  F-statistic:       </th> <td>3.370e+04</td>\n",
       "</tr>\n",
       "<tr>\n",
       "  <th>Date:</th>             <td>Wed, 25 May 2022</td> <th>  Prob (F-statistic):</th>  <td>  0.00</td>  \n",
       "</tr>\n",
       "<tr>\n",
       "  <th>Time:</th>                 <td>19:42:32</td>     <th>  Log-Likelihood:    </th> <td> -28323.</td> \n",
       "</tr>\n",
       "<tr>\n",
       "  <th>No. Observations:</th>      <td> 40370</td>      <th>  AIC:               </th> <td>5.666e+04</td>\n",
       "</tr>\n",
       "<tr>\n",
       "  <th>Df Residuals:</th>          <td> 40365</td>      <th>  BIC:               </th> <td>5.670e+04</td>\n",
       "</tr>\n",
       "<tr>\n",
       "  <th>Df Model:</th>              <td>     4</td>      <th>                     </th>     <td> </td>    \n",
       "</tr>\n",
       "<tr>\n",
       "  <th>Covariance Type:</th>      <td>nonrobust</td>    <th>                     </th>     <td> </td>    \n",
       "</tr>\n",
       "</table>\n",
       "<table class=\"simpletable\">\n",
       "<tr>\n",
       "      <td></td>         <th>coef</th>     <th>std err</th>      <th>t</th>      <th>P>|t|</th>  <th>[0.025</th>    <th>0.975]</th>  \n",
       "</tr>\n",
       "<tr>\n",
       "  <th>Intercept</th> <td>    8.0338</td> <td>    0.008</td> <td>  995.469</td> <td> 0.000</td> <td>    8.018</td> <td>    8.050</td>\n",
       "</tr>\n",
       "<tr>\n",
       "  <th>carat</th>     <td>    0.9219</td> <td>    0.003</td> <td>  349.226</td> <td> 0.000</td> <td>    0.917</td> <td>    0.927</td>\n",
       "</tr>\n",
       "<tr>\n",
       "  <th>cut</th>       <td>   -0.0203</td> <td>    0.002</td> <td>   -9.150</td> <td> 0.000</td> <td>   -0.025</td> <td>   -0.016</td>\n",
       "</tr>\n",
       "<tr>\n",
       "  <th>color</th>     <td>   -0.0278</td> <td>    0.001</td> <td>  -18.913</td> <td> 0.000</td> <td>   -0.031</td> <td>   -0.025</td>\n",
       "</tr>\n",
       "<tr>\n",
       "  <th>clarity</th>   <td>   -0.0393</td> <td>    0.002</td> <td>  -24.919</td> <td> 0.000</td> <td>   -0.042</td> <td>   -0.036</td>\n",
       "</tr>\n",
       "</table>\n",
       "<table class=\"simpletable\">\n",
       "<tr>\n",
       "  <th>Omnibus:</th>       <td>20547.727</td> <th>  Durbin-Watson:     </th>  <td>   1.999</td> \n",
       "</tr>\n",
       "<tr>\n",
       "  <th>Prob(Omnibus):</th>  <td> 0.000</td>   <th>  Jarque-Bera (JB):  </th> <td>160822.221</td>\n",
       "</tr>\n",
       "<tr>\n",
       "  <th>Skew:</th>           <td> 2.338</td>   <th>  Prob(JB):          </th>  <td>    0.00</td> \n",
       "</tr>\n",
       "<tr>\n",
       "  <th>Kurtosis:</th>       <td>11.587</td>   <th>  Cond. No.          </th>  <td>    17.8</td> \n",
       "</tr>\n",
       "</table><br/><br/>Notes:<br/>[1] Standard Errors assume that the covariance matrix of the errors is correctly specified."
      ],
      "text/plain": [
       "<class 'statsmodels.iolib.summary.Summary'>\n",
       "\"\"\"\n",
       "                            OLS Regression Results                            \n",
       "==============================================================================\n",
       "Dep. Variable:                  price   R-squared:                       0.770\n",
       "Model:                            OLS   Adj. R-squared:                  0.770\n",
       "Method:                 Least Squares   F-statistic:                 3.370e+04\n",
       "Date:                Wed, 25 May 2022   Prob (F-statistic):               0.00\n",
       "Time:                        19:42:32   Log-Likelihood:                -28323.\n",
       "No. Observations:               40370   AIC:                         5.666e+04\n",
       "Df Residuals:                   40365   BIC:                         5.670e+04\n",
       "Df Model:                           4                                         \n",
       "Covariance Type:            nonrobust                                         \n",
       "==============================================================================\n",
       "                 coef    std err          t      P>|t|      [0.025      0.975]\n",
       "------------------------------------------------------------------------------\n",
       "Intercept      8.0338      0.008    995.469      0.000       8.018       8.050\n",
       "carat          0.9219      0.003    349.226      0.000       0.917       0.927\n",
       "cut           -0.0203      0.002     -9.150      0.000      -0.025      -0.016\n",
       "color         -0.0278      0.001    -18.913      0.000      -0.031      -0.025\n",
       "clarity       -0.0393      0.002    -24.919      0.000      -0.042      -0.036\n",
       "==============================================================================\n",
       "Omnibus:                    20547.727   Durbin-Watson:                   1.999\n",
       "Prob(Omnibus):                  0.000   Jarque-Bera (JB):           160822.221\n",
       "Skew:                           2.338   Prob(JB):                         0.00\n",
       "Kurtosis:                      11.587   Cond. No.                         17.8\n",
       "==============================================================================\n",
       "\n",
       "Notes:\n",
       "[1] Standard Errors assume that the covariance matrix of the errors is correctly specified.\n",
       "\"\"\""
      ]
     },
     "execution_count": 4,
     "metadata": {},
     "output_type": "execute_result"
    }
   ],
   "source": [
    "results = smf.ols(\"price ~  carat +  cut + color +  clarity\", data=df_tt).fit() \n",
    "results.summary()"
   ]
  },
  {
   "cell_type": "markdown",
   "id": "9637ae92",
   "metadata": {},
   "source": [
    "Usando la librería sklearn"
   ]
  },
  {
   "cell_type": "code",
   "execution_count": 5,
   "id": "a8206501",
   "metadata": {},
   "outputs": [],
   "source": [
    "lr = LinearRegression()"
   ]
  },
  {
   "cell_type": "code",
   "execution_count": 6,
   "id": "a0c5272f",
   "metadata": {},
   "outputs": [
    {
     "data": {
      "text/plain": [
       "LinearRegression()"
      ]
     },
     "execution_count": 6,
     "metadata": {},
     "output_type": "execute_result"
    }
   ],
   "source": [
    " lr.fit(X, y)"
   ]
  },
  {
   "cell_type": "code",
   "execution_count": 7,
   "id": "5c3870b7",
   "metadata": {},
   "outputs": [
    {
     "data": {
      "text/plain": [
       "8.033795508182227"
      ]
     },
     "execution_count": 7,
     "metadata": {},
     "output_type": "execute_result"
    }
   ],
   "source": [
    "lr.intercept_"
   ]
  },
  {
   "cell_type": "code",
   "execution_count": 8,
   "id": "9e5955d8",
   "metadata": {},
   "outputs": [
    {
     "data": {
      "text/plain": [
       "array([ 0.92194702, -0.02033963, -0.0278076 , -0.03933323])"
      ]
     },
     "execution_count": 8,
     "metadata": {},
     "output_type": "execute_result"
    }
   ],
   "source": [
    "lr.coef_"
   ]
  },
  {
   "cell_type": "markdown",
   "id": "374c2911",
   "metadata": {},
   "source": [
    "# Predicción"
   ]
  },
  {
   "cell_type": "markdown",
   "id": "4f62c773",
   "metadata": {},
   "source": [
    "Nos traemos el CSV de test limpio"
   ]
  },
  {
   "cell_type": "code",
   "execution_count": 9,
   "id": "233c31a5",
   "metadata": {},
   "outputs": [
    {
     "data": {
      "text/html": [
       "<div>\n",
       "<style scoped>\n",
       "    .dataframe tbody tr th:only-of-type {\n",
       "        vertical-align: middle;\n",
       "    }\n",
       "\n",
       "    .dataframe tbody tr th {\n",
       "        vertical-align: top;\n",
       "    }\n",
       "\n",
       "    .dataframe thead th {\n",
       "        text-align: right;\n",
       "    }\n",
       "</style>\n",
       "<table border=\"1\" class=\"dataframe\">\n",
       "  <thead>\n",
       "    <tr style=\"text-align: right;\">\n",
       "      <th></th>\n",
       "      <th>carat</th>\n",
       "      <th>cut</th>\n",
       "      <th>color</th>\n",
       "      <th>clarity</th>\n",
       "    </tr>\n",
       "  </thead>\n",
       "  <tbody>\n",
       "    <tr>\n",
       "      <th>0</th>\n",
       "      <td>-1.023184</td>\n",
       "      <td>0</td>\n",
       "      <td>5</td>\n",
       "      <td>5</td>\n",
       "    </tr>\n",
       "    <tr>\n",
       "      <th>1</th>\n",
       "      <td>0.941880</td>\n",
       "      <td>1</td>\n",
       "      <td>5</td>\n",
       "      <td>5</td>\n",
       "    </tr>\n",
       "  </tbody>\n",
       "</table>\n",
       "</div>"
      ],
      "text/plain": [
       "      carat  cut  color  clarity\n",
       "0 -1.023184    0      5        5\n",
       "1  0.941880    1      5        5"
      ]
     },
     "execution_count": 9,
     "metadata": {},
     "output_type": "execute_result"
    }
   ],
   "source": [
    "X_test = pd.read_csv(\"../data/test_limpio_.csv\", index_col = 0)\n",
    "X_test.head(2)"
   ]
  },
  {
   "cell_type": "code",
   "execution_count": 10,
   "id": "a65d145e",
   "metadata": {},
   "outputs": [],
   "source": [
    "y_pred_test = lr.predict(X_test)\n",
    "y_pred_train = lr.predict(X)"
   ]
  },
  {
   "cell_type": "code",
   "execution_count": 11,
   "id": "201c63a0",
   "metadata": {},
   "outputs": [
    {
     "data": {
      "text/plain": [
       "array([6.75477007, 8.54611546, 9.51222707, ..., 6.83814165, 8.58614732,\n",
       "       7.78277244])"
      ]
     },
     "execution_count": 11,
     "metadata": {},
     "output_type": "execute_result"
    }
   ],
   "source": [
    "y_pred_test"
   ]
  },
  {
   "cell_type": "markdown",
   "id": "ac6fab34",
   "metadata": {},
   "source": [
    "# Validación del Modelo"
   ]
  },
  {
   "cell_type": "code",
   "execution_count": 12,
   "id": "b3a553ae",
   "metadata": {},
   "outputs": [
    {
     "name": "stdout",
     "output_type": "stream",
     "text": [
      "Mean Absolute Error: 0.30343894839610236\n",
      "Mean Squared Error: 0.23818518883554757\n",
      "Root Mean Squared Error: 0.48804219985114766\n",
      "R2: 0.7695808067699201\n"
     ]
    }
   ],
   "source": [
    "print('Mean Absolute Error:', metrics.mean_absolute_error(y, y_pred_train))\n",
    "print('Mean Squared Error:', metrics.mean_squared_error(y, y_pred_train))\n",
    "print('Root Mean Squared Error:', np.sqrt(metrics.mean_squared_error(y, y_pred_train)))\n",
    "print(\"R2:\",  metrics.r2_score(y, y_pred_train))"
   ]
  },
  {
   "cell_type": "code",
   "execution_count": 13,
   "id": "92ecc784",
   "metadata": {},
   "outputs": [],
   "source": [
    "def metricas1(y, y_pred_test, y_pred_train, tipo_modelo):\n",
    "    \n",
    "    \n",
    "    resultados = {'Root Mean Squared Error:', np.sqrt(metrics.mean_squared_error(y, y_pred_train))}\n",
    "    df = pd.DataFrame(resultados)\n",
    "    df[\"modelo\"] = tipo_modelo\n",
    "    return df"
   ]
  },
  {
   "cell_type": "code",
   "execution_count": 14,
   "id": "630f1014",
   "metadata": {},
   "outputs": [],
   "source": [
    "lr_results = metricas1(y, y_pred_test, y_pred_train,\"Regresion lineal\")"
   ]
  },
  {
   "cell_type": "code",
   "execution_count": 15,
   "id": "6ee6b3d0",
   "metadata": {},
   "outputs": [
    {
     "data": {
      "text/html": [
       "<div>\n",
       "<style scoped>\n",
       "    .dataframe tbody tr th:only-of-type {\n",
       "        vertical-align: middle;\n",
       "    }\n",
       "\n",
       "    .dataframe tbody tr th {\n",
       "        vertical-align: top;\n",
       "    }\n",
       "\n",
       "    .dataframe thead th {\n",
       "        text-align: right;\n",
       "    }\n",
       "</style>\n",
       "<table border=\"1\" class=\"dataframe\">\n",
       "  <thead>\n",
       "    <tr style=\"text-align: right;\">\n",
       "      <th></th>\n",
       "      <th>0</th>\n",
       "      <th>modelo</th>\n",
       "    </tr>\n",
       "  </thead>\n",
       "  <tbody>\n",
       "    <tr>\n",
       "      <th>0</th>\n",
       "      <td>0.488042</td>\n",
       "      <td>Regresion lineal</td>\n",
       "    </tr>\n",
       "    <tr>\n",
       "      <th>1</th>\n",
       "      <td>Root Mean Squared Error:</td>\n",
       "      <td>Regresion lineal</td>\n",
       "    </tr>\n",
       "  </tbody>\n",
       "</table>\n",
       "</div>"
      ],
      "text/plain": [
       "                          0            modelo\n",
       "0                  0.488042  Regresion lineal\n",
       "1  Root Mean Squared Error:  Regresion lineal"
      ]
     },
     "execution_count": 15,
     "metadata": {},
     "output_type": "execute_result"
    }
   ],
   "source": [
    "lr_results"
   ]
  },
  {
   "cell_type": "markdown",
   "id": "cd000d47",
   "metadata": {},
   "source": [
    "# Cross Validation"
   ]
  },
  {
   "cell_type": "code",
   "execution_count": 16,
   "id": "2a34eb4c",
   "metadata": {},
   "outputs": [
    {
     "data": {
      "text/html": [
       "<div>\n",
       "<style scoped>\n",
       "    .dataframe tbody tr th:only-of-type {\n",
       "        vertical-align: middle;\n",
       "    }\n",
       "\n",
       "    .dataframe tbody tr th {\n",
       "        vertical-align: top;\n",
       "    }\n",
       "\n",
       "    .dataframe thead th {\n",
       "        text-align: right;\n",
       "    }\n",
       "</style>\n",
       "<table border=\"1\" class=\"dataframe\">\n",
       "  <thead>\n",
       "    <tr style=\"text-align: right;\">\n",
       "      <th></th>\n",
       "      <th>fit_time</th>\n",
       "      <th>score_time</th>\n",
       "      <th>test_r2</th>\n",
       "      <th>test_neg_root_mean_squared_error</th>\n",
       "    </tr>\n",
       "  </thead>\n",
       "  <tbody>\n",
       "    <tr>\n",
       "      <th>0</th>\n",
       "      <td>0.014821</td>\n",
       "      <td>0.003599</td>\n",
       "      <td>0.769099</td>\n",
       "      <td>-0.486801</td>\n",
       "    </tr>\n",
       "    <tr>\n",
       "      <th>1</th>\n",
       "      <td>0.006524</td>\n",
       "      <td>0.002796</td>\n",
       "      <td>0.759542</td>\n",
       "      <td>-0.504490</td>\n",
       "    </tr>\n",
       "    <tr>\n",
       "      <th>2</th>\n",
       "      <td>0.006714</td>\n",
       "      <td>0.001926</td>\n",
       "      <td>0.762778</td>\n",
       "      <td>-0.492955</td>\n",
       "    </tr>\n",
       "    <tr>\n",
       "      <th>3</th>\n",
       "      <td>0.006315</td>\n",
       "      <td>0.001835</td>\n",
       "      <td>0.776900</td>\n",
       "      <td>-0.479458</td>\n",
       "    </tr>\n",
       "    <tr>\n",
       "      <th>4</th>\n",
       "      <td>0.005579</td>\n",
       "      <td>0.002152</td>\n",
       "      <td>0.772532</td>\n",
       "      <td>-0.483127</td>\n",
       "    </tr>\n",
       "    <tr>\n",
       "      <th>5</th>\n",
       "      <td>0.005489</td>\n",
       "      <td>0.002010</td>\n",
       "      <td>0.776939</td>\n",
       "      <td>-0.479231</td>\n",
       "    </tr>\n",
       "    <tr>\n",
       "      <th>6</th>\n",
       "      <td>0.005730</td>\n",
       "      <td>0.001975</td>\n",
       "      <td>0.765328</td>\n",
       "      <td>-0.493316</td>\n",
       "    </tr>\n",
       "    <tr>\n",
       "      <th>7</th>\n",
       "      <td>0.005967</td>\n",
       "      <td>0.001841</td>\n",
       "      <td>0.784191</td>\n",
       "      <td>-0.472654</td>\n",
       "    </tr>\n",
       "    <tr>\n",
       "      <th>8</th>\n",
       "      <td>0.006135</td>\n",
       "      <td>0.001864</td>\n",
       "      <td>0.768787</td>\n",
       "      <td>-0.494153</td>\n",
       "    </tr>\n",
       "    <tr>\n",
       "      <th>9</th>\n",
       "      <td>0.006018</td>\n",
       "      <td>0.001833</td>\n",
       "      <td>0.758495</td>\n",
       "      <td>-0.494180</td>\n",
       "    </tr>\n",
       "  </tbody>\n",
       "</table>\n",
       "</div>"
      ],
      "text/plain": [
       "   fit_time  score_time   test_r2  test_neg_root_mean_squared_error\n",
       "0  0.014821    0.003599  0.769099                         -0.486801\n",
       "1  0.006524    0.002796  0.759542                         -0.504490\n",
       "2  0.006714    0.001926  0.762778                         -0.492955\n",
       "3  0.006315    0.001835  0.776900                         -0.479458\n",
       "4  0.005579    0.002152  0.772532                         -0.483127\n",
       "5  0.005489    0.002010  0.776939                         -0.479231\n",
       "6  0.005730    0.001975  0.765328                         -0.493316\n",
       "7  0.005967    0.001841  0.784191                         -0.472654\n",
       "8  0.006135    0.001864  0.768787                         -0.494153\n",
       "9  0.006018    0.001833  0.758495                         -0.494180"
      ]
     },
     "execution_count": 16,
     "metadata": {},
     "output_type": "execute_result"
    }
   ],
   "source": [
    "# Validación cruzada repetida con múltiples métricas\n",
    "# ==============================================================================\n",
    "\n",
    "cv_scores = cross_validate(\n",
    "                estimator = LinearRegression(),\n",
    "                X         = X,\n",
    "                y         = y,\n",
    "                scoring   = ('r2', 'neg_root_mean_squared_error'),\n",
    "                cv        = 10)\n",
    "\n",
    "# Se convierte el diccionario a dataframe para facilitar la visualización\n",
    "cv_scores = pd.DataFrame(cv_scores)\n",
    "cv_scores"
   ]
  }
 ],
 "metadata": {
  "kernelspec": {
   "display_name": "Python 3 (ipykernel)",
   "language": "python",
   "name": "python3"
  },
  "language_info": {
   "codemirror_mode": {
    "name": "ipython",
    "version": 3
   },
   "file_extension": ".py",
   "mimetype": "text/x-python",
   "name": "python",
   "nbconvert_exporter": "python",
   "pygments_lexer": "ipython3",
   "version": "3.9.7"
  }
 },
 "nbformat": 4,
 "nbformat_minor": 5
}
